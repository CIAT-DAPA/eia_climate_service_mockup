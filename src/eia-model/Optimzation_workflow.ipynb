{
 "cells": [
  {
   "cell_type": "code",
   "execution_count": 1,
   "metadata": {},
   "outputs": [],
   "source": [
    "#!/usr/bin/env python3.7  \n",
    "# -*- coding: utf-8 -*- \n",
    "#----------------------------------------------------------------------------\n",
    "# Created By  : name_of_the_creator Hugo Andres Dorado   \n",
    "# Created Date: 17/02/2022\n",
    "# version ='1.0'\n",
    "\n",
    "from msilib import sequence\n",
    "import pandas as pd\n",
    "import numpy as np\n",
    "import random as rd\n",
    "from sklearn.ensemble import RandomForestRegressor\n",
    "from sklearn import preprocessing\n",
    "from sklearn.preprocessing import OneHotEncoder\n",
    "from sklearn.preprocessing import StandardScaler\n",
    "from sklearn.preprocessing import MinMaxScaler\n",
    "from sklearn.preprocessing import OneHotEncoder\n",
    "from sklearn.compose import make_column_selector\n",
    "from sklearn.compose import ColumnTransformer\n",
    "import matplotlib.pyplot as plt\n",
    "from joblib import dump, load\n",
    "import csv\n",
    "import re\n",
    "from Optimization_funs import *"
   ]
  },
  {
   "cell_type": "code",
   "execution_count": 2,
   "metadata": {},
   "outputs": [],
   "source": [
    "\n",
    "# Read dataset\n",
    "\n",
    "dataset = pd.read_csv(\"datasetcordoba.csv\",index_col=0)\n",
    "\n",
    "del dataset[\"year_sems\"]\n",
    "\n",
    "dataset.columns\n",
    "\n",
    "X = dataset.copy()\n",
    "\n",
    "del X[\"Yield\"]\n",
    "\n",
    "Y = dataset[\"Yield\"]"
   ]
  },
  {
   "cell_type": "code",
   "execution_count": 4,
   "metadata": {},
   "outputs": [],
   "source": [
    "# Extract ranges\n",
    "\n",
    "clasVars = pd.read_csv(\"header_dataset.csv\")"
   ]
  },
  {
   "cell_type": "code",
   "execution_count": 5,
   "metadata": {},
   "outputs": [],
   "source": [
    "# Subset of variables\n",
    "\n",
    "managment_vars = clasVars[clasVars.Type==\"M\"][\"Variable\"].reset_index()[\"Variable\"]\n",
    "scales_managment_vars = clasVars[clasVars.Type==\"M\"][\"Scale\"].reset_index()[\"Scale\"]\n",
    "\n",
    "other_variables = clasVars[clasVars.Type!=\"M\" ]\n",
    "other_variables = other_variables[other_variables.Type != \"O\"][\"Variable\"].reset_index()[\"Variable\"]"
   ]
  },
  {
   "cell_type": "code",
   "execution_count": 6,
   "metadata": {},
   "outputs": [],
   "source": [
    "# Split dataset\n",
    "\n",
    "mat_M = dataset[managment_vars]\n",
    "mat_O = dataset[other_variables]"
   ]
  },
  {
   "cell_type": "code",
   "execution_count": 8,
   "metadata": {},
   "outputs": [
    {
     "data": {
      "text/plain": [
       "[[84848.48485, 42424.24242],\n",
       " [5.0, 1.0],\n",
       " [87500.0, 13500.0],\n",
       " [3.0, 0.0],\n",
       " [5.0, 0.0],\n",
       " [12.0, 0.0],\n",
       " [0.276, 0.0],\n",
       " [0.0475, 0.0],\n",
       " [0.18, 0.0],\n",
       " [4.0, 1.0],\n",
       " ['Manual', 'Mecanizado'],\n",
       " ['NO', 'SI'],\n",
       " ['ADV 9293 (Syngenta)',\n",
       "  'ADV 9339 (Syngenta)',\n",
       "  'Cerato (Syngenta)',\n",
       "  'DK7088',\n",
       "  'DK 234',\n",
       "  'DK 234 YGRR',\n",
       "  'DK 1040',\n",
       "  'DK 1596',\n",
       "  'FNC 114',\n",
       "  'FNC 3056',\n",
       "  'ICA V 156',\n",
       "  'ICA V 305',\n",
       "  'Impacto (Syngenta)',\n",
       "  'NK254 (Syngenta)',\n",
       "  'Otro',\n",
       "  'P3966 (Pioneer)',\n",
       "  'P4082 (Pioneer)',\n",
       "  'PAC 105',\n",
       "  'PIONEER 30F32',\n",
       "  'PIONEER 30F32HW',\n",
       "  'PIONEER 30F35',\n",
       "  'PIONEER 30F35 H',\n",
       "  'PIONEER 30F35 HRR',\n",
       "  'Sinko (Syngenta)',\n",
       "  'Status (Syngenta)'],\n",
       " ['Manual', 'Mecanizada'],\n",
       " ['Hibrido', 'OGM']]"
      ]
     },
     "execution_count": 8,
     "metadata": {},
     "output_type": "execute_result"
    }
   ],
   "source": [
    "# Validation\n",
    "\n",
    "ds_ranges = AllRangGen(mat_M,scales_managment_vars,managment_vars)\n"
   ]
  },
  {
   "cell_type": "code",
   "execution_count": 9,
   "metadata": {},
   "outputs": [],
   "source": [
    "# Persistence\n",
    "\n",
    "ct = load('pipe_line.joblib')\n",
    "\n",
    "rf = load('rf_cordoba.joblib') "
   ]
  },
  {
   "cell_type": "code",
   "execution_count": 10,
   "metadata": {},
   "outputs": [
    {
     "data": {
      "text/html": [
       "<div>\n",
       "<style scoped>\n",
       "    .dataframe tbody tr th:only-of-type {\n",
       "        vertical-align: middle;\n",
       "    }\n",
       "\n",
       "    .dataframe tbody tr th {\n",
       "        vertical-align: top;\n",
       "    }\n",
       "\n",
       "    .dataframe thead th {\n",
       "        text-align: right;\n",
       "    }\n",
       "</style>\n",
       "<table border=\"1\" class=\"dataframe\">\n",
       "  <thead>\n",
       "    <tr style=\"text-align: right;\">\n",
       "      <th></th>\n",
       "      <th>Sowing_Seeds_Number</th>\n",
       "      <th>Seeds_Per_Site</th>\n",
       "      <th>Plant_Density_20_days</th>\n",
       "      <th>Chemical_Treat_Disease</th>\n",
       "      <th>Chemical_Treat_Weeds</th>\n",
       "      <th>Chemical_Treat_Pests</th>\n",
       "      <th>Total_N</th>\n",
       "      <th>Total_P</th>\n",
       "      <th>Total_K</th>\n",
       "      <th>Number_Chemical_Ferti</th>\n",
       "      <th>...</th>\n",
       "      <th>Cultivar</th>\n",
       "      <th>Former_Crop</th>\n",
       "      <th>Field_Drainage</th>\n",
       "      <th>Harvest_Method</th>\n",
       "      <th>Cultivar_Type</th>\n",
       "      <th>Soil_Structure</th>\n",
       "      <th>Runoff</th>\n",
       "      <th>Soil_Texture</th>\n",
       "      <th>Organic_Matter_Content</th>\n",
       "      <th>Yield</th>\n",
       "    </tr>\n",
       "    <tr>\n",
       "      <th>ID</th>\n",
       "      <th></th>\n",
       "      <th></th>\n",
       "      <th></th>\n",
       "      <th></th>\n",
       "      <th></th>\n",
       "      <th></th>\n",
       "      <th></th>\n",
       "      <th></th>\n",
       "      <th></th>\n",
       "      <th></th>\n",
       "      <th></th>\n",
       "      <th></th>\n",
       "      <th></th>\n",
       "      <th></th>\n",
       "      <th></th>\n",
       "      <th></th>\n",
       "      <th></th>\n",
       "      <th></th>\n",
       "      <th></th>\n",
       "      <th></th>\n",
       "      <th></th>\n",
       "    </tr>\n",
       "  </thead>\n",
       "  <tbody>\n",
       "    <tr>\n",
       "      <th>16</th>\n",
       "      <td>75000.0</td>\n",
       "      <td>1.0</td>\n",
       "      <td>68000.0</td>\n",
       "      <td>0.0</td>\n",
       "      <td>2.0</td>\n",
       "      <td>1.0</td>\n",
       "      <td>0.092</td>\n",
       "      <td>0.0</td>\n",
       "      <td>0.0</td>\n",
       "      <td>2.0</td>\n",
       "      <td>...</td>\n",
       "      <td>FNC 114</td>\n",
       "      <td>Maiz</td>\n",
       "      <td>NO</td>\n",
       "      <td>Manual</td>\n",
       "      <td>Hibrido</td>\n",
       "      <td>MASIVA</td>\n",
       "      <td>NINGUNO</td>\n",
       "      <td>FrL</td>\n",
       "      <td>MEDIA</td>\n",
       "      <td>4.0</td>\n",
       "    </tr>\n",
       "  </tbody>\n",
       "</table>\n",
       "<p>1 rows × 36 columns</p>\n",
       "</div>"
      ],
      "text/plain": [
       "    Sowing_Seeds_Number  Seeds_Per_Site  Plant_Density_20_days  \\\n",
       "ID                                                               \n",
       "16              75000.0             1.0                68000.0   \n",
       "\n",
       "    Chemical_Treat_Disease  Chemical_Treat_Weeds  Chemical_Treat_Pests  \\\n",
       "ID                                                                       \n",
       "16                     0.0                   2.0                   1.0   \n",
       "\n",
       "    Total_N  Total_P  Total_K  Number_Chemical_Ferti  ...  Cultivar  \\\n",
       "ID                                                    ...             \n",
       "16    0.092      0.0      0.0                    2.0  ...   FNC 114   \n",
       "\n",
       "    Former_Crop  Field_Drainage  Harvest_Method  Cultivar_Type  \\\n",
       "ID                                                               \n",
       "16         Maiz              NO          Manual        Hibrido   \n",
       "\n",
       "    Soil_Structure   Runoff  Soil_Texture  Organic_Matter_Content  Yield  \n",
       "ID                                                                        \n",
       "16          MASIVA  NINGUNO           FrL                   MEDIA    4.0  \n",
       "\n",
       "[1 rows x 36 columns]"
      ]
     },
     "execution_count": 10,
     "metadata": {},
     "output_type": "execute_result"
    }
   ],
   "source": [
    "gen = dataset.iloc[[15]]\n",
    "\n",
    "gen"
   ]
  },
  {
   "cell_type": "code",
   "execution_count": 11,
   "metadata": {},
   "outputs": [],
   "source": [
    "solution = bestGlobHS(fv=gen[other_variables],hms=5,hmcr=0.85,par=0.3,maxNumInp=100,fitnessfun=fitnessfun,\n",
    "namesds=managment_vars,fixedVars=other_variables,model_train=rf,ranges=ds_ranges,scales=scales_managment_vars,\n",
    "transf_fun=ct)"
   ]
  },
  {
   "cell_type": "code",
   "execution_count": 12,
   "metadata": {},
   "outputs": [
    {
     "data": {
      "text/html": [
       "<div>\n",
       "<style scoped>\n",
       "    .dataframe tbody tr th:only-of-type {\n",
       "        vertical-align: middle;\n",
       "    }\n",
       "\n",
       "    .dataframe tbody tr th {\n",
       "        vertical-align: top;\n",
       "    }\n",
       "\n",
       "    .dataframe thead th {\n",
       "        text-align: right;\n",
       "    }\n",
       "</style>\n",
       "<table border=\"1\" class=\"dataframe\">\n",
       "  <thead>\n",
       "    <tr style=\"text-align: right;\">\n",
       "      <th>Variable</th>\n",
       "      <th>Sowing_Seeds_Number</th>\n",
       "      <th>Seeds_Per_Site</th>\n",
       "      <th>Plant_Density_20_days</th>\n",
       "      <th>Chemical_Treat_Disease</th>\n",
       "      <th>Chemical_Treat_Weeds</th>\n",
       "      <th>Chemical_Treat_Pests</th>\n",
       "      <th>Total_N</th>\n",
       "      <th>Total_P</th>\n",
       "      <th>Total_K</th>\n",
       "      <th>Number_Chemical_Ferti</th>\n",
       "      <th>Sowing_Method</th>\n",
       "      <th>Seeds_Treatment</th>\n",
       "      <th>Cultivar</th>\n",
       "      <th>Harvest_Method</th>\n",
       "      <th>Cultivar_Type</th>\n",
       "      <th>Performance</th>\n",
       "    </tr>\n",
       "  </thead>\n",
       "  <tbody>\n",
       "    <tr>\n",
       "      <th>0</th>\n",
       "      <td>58715.181461</td>\n",
       "      <td>1.496693</td>\n",
       "      <td>81929.186195</td>\n",
       "      <td>2</td>\n",
       "      <td>5</td>\n",
       "      <td>12</td>\n",
       "      <td>0.130543</td>\n",
       "      <td>0.034203</td>\n",
       "      <td>0.110802</td>\n",
       "      <td>3</td>\n",
       "      <td>Mecanizado</td>\n",
       "      <td>NO</td>\n",
       "      <td>PIONEER 30F35</td>\n",
       "      <td>Mecanizada</td>\n",
       "      <td>OGM</td>\n",
       "      <td>5.11286</td>\n",
       "    </tr>\n",
       "  </tbody>\n",
       "</table>\n",
       "</div>"
      ],
      "text/plain": [
       "Variable  Sowing_Seeds_Number  Seeds_Per_Site  Plant_Density_20_days  \\\n",
       "0                58715.181461        1.496693           81929.186195   \n",
       "\n",
       "Variable Chemical_Treat_Disease Chemical_Treat_Weeds Chemical_Treat_Pests  \\\n",
       "0                             2                    5                   12   \n",
       "\n",
       "Variable   Total_N   Total_P   Total_K Number_Chemical_Ferti Sowing_Method  \\\n",
       "0         0.130543  0.034203  0.110802                     3    Mecanizado   \n",
       "\n",
       "Variable Seeds_Treatment       Cultivar Harvest_Method Cultivar_Type  \\\n",
       "0                     NO  PIONEER 30F35     Mecanizada           OGM   \n",
       "\n",
       "Variable  Performance  \n",
       "0             5.11286  "
      ]
     },
     "execution_count": 12,
     "metadata": {},
     "output_type": "execute_result"
    }
   ],
   "source": [
    "solution[1]"
   ]
  },
  {
   "cell_type": "code",
   "execution_count": 13,
   "metadata": {},
   "outputs": [
    {
     "data": {
      "text/plain": [
       "2     4.529316\n",
       "3     4.675774\n",
       "1     4.751210\n",
       "4     4.758650\n",
       "0     4.893706\n",
       "        ...   \n",
       "95    5.112860\n",
       "96    5.112860\n",
       "97    5.112860\n",
       "98    5.112860\n",
       "99    5.112860\n",
       "Name: Performance, Length: 100, dtype: float64"
      ]
     },
     "execution_count": 13,
     "metadata": {},
     "output_type": "execute_result"
    }
   ],
   "source": [
    "solution[0]"
   ]
  }
 ],
 "metadata": {
  "interpreter": {
   "hash": "0a5b45650218001f40b8a1d39d3165fa4565879eda00563d93bb63460728d6e1"
  },
  "kernelspec": {
   "display_name": "Python 3.7.10 64-bit ('data_science': conda)",
   "language": "python",
   "name": "python3"
  },
  "language_info": {
   "codemirror_mode": {
    "name": "ipython",
    "version": 3
   },
   "file_extension": ".py",
   "mimetype": "text/x-python",
   "name": "python",
   "nbconvert_exporter": "python",
   "pygments_lexer": "ipython3",
   "version": "3.7.10"
  },
  "orig_nbformat": 4
 },
 "nbformat": 4,
 "nbformat_minor": 2
}
